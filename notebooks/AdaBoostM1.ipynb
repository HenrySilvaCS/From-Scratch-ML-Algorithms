{
 "cells": [
  {
   "cell_type": "markdown",
   "metadata": {},
   "source": [
    "# AdaBoost"
   ]
  },
  {
   "cell_type": "markdown",
   "metadata": {},
   "source": [
    "Implementation of the AdaBoost algorithm for classification, as described in _Hastie, Trevor, Robert, Tibshirani and J. H. Friedman. 2009. The Elements of Statistical Learning: Data Mining, Inference, and Prediction. New York: Springer_. The algorithm consists of a boosting technique, that takes a weak classifier,e.g. decision bump, and improves its performance by applying weights to each sucessive prediction on each iteration. This implementation of the AdaBoost only works for classification problems with $y \\in \\{-1,1\\} $."
   ]
  },
  {
   "cell_type": "markdown",
   "metadata": {},
   "source": [
    "## The Algorithm"
   ]
  },
  {
   "cell_type": "markdown",
   "metadata": {},
   "source": [
    "Dependencies"
   ]
  },
  {
   "cell_type": "code",
   "execution_count": 10,
   "metadata": {},
   "outputs": [],
   "source": [
    "import numpy as np \n",
    "from sklearn.model_selection import train_test_split\n",
    "from sklearn.tree  import DecisionTreeClassifier"
   ]
  },
  {
   "cell_type": "markdown",
   "metadata": {},
   "source": [
    "Defining a simple misclassification function."
   ]
  },
  {
   "cell_type": "code",
   "execution_count": 11,
   "metadata": {},
   "outputs": [],
   "source": [
    "def misclassification(y,prediction):\n",
    "    \"\"\"\n",
    "    Inputs:\n",
    "        y: int\n",
    "            Input a single value of the output variable y.\n",
    "        prediction: int\n",
    "            Input a single valut of the predicted output.\n",
    "    Returns:\n",
    "        misclassifications: array\n",
    "            Output 1 if the values do not match and 0 if they do.\n",
    "    \"\"\"\n",
    "    y=y.reshape((-1,1))\n",
    "    prediction = prediction.reshape((-1,1))\n",
    "    misclassifications = 1*(y != prediction)\n",
    "    return misclassifications\n",
    "    "
   ]
  },
  {
   "cell_type": "markdown",
   "metadata": {},
   "source": [
    "### Implementation"
   ]
  },
  {
   "cell_type": "code",
   "execution_count": 12,
   "metadata": {},
   "outputs": [],
   "source": [
    "def adaboost_m1(x,y,M):\n",
    "    \"\"\"\n",
    "    AdaBoost algorithm for weak classifiers.\n",
    "    Inputs:\n",
    "        x: array\n",
    "            input the array of input points\n",
    "        y: array\n",
    "            input the array of output points, with y E {-1,1}\n",
    "        M: int\n",
    "            input number of iterations for the algorithm\n",
    "    Returns:\n",
    "        alphas: array\n",
    "            outputs the array of classifier/stump weights(alphas)calculated by the AdaBoost\n",
    "        stumps: list\n",
    "            outputs the list of M classifiers that were fitted over all iterations\n",
    "        weighted_error: array\n",
    "            outputs the array of weighted misclassification error for every iteration M.\n",
    "    \"\"\"\n",
    "    alphas = np.zeros((M,1)) \n",
    "    predictions_train = np.zeros((len(y),M)) \n",
    "    staged_weights = np.zeros((len(y),M)) \n",
    "    weighted_error = np.zeros((M,1)) \n",
    "    stumps = list()\n",
    "    for i in range(len(y)):\n",
    "        staged_weights[i,0] = 1/len(y)\n",
    "    for m in range(M):\n",
    "        curr_weights = staged_weights[:,m]\n",
    "        stump = DecisionTreeClassifier(max_depth=1, max_leaf_nodes=2)\n",
    "        stump = stump.fit(x,y,sample_weight=curr_weights)\n",
    "        predictions_train[:,m] = stump.predict(x)\n",
    "        curr_weights = curr_weights.reshape((-1,1))\n",
    "        weighted_misclassification = curr_weights * misclassification(y,predictions_train[:,m])\n",
    "        weighted_error[m] = np.sum(weighted_misclassification)/np.sum(curr_weights)\n",
    "        alphas[m] = np.log((1 - weighted_error[m])/weighted_error[m])\n",
    "        curr_weights = curr_weights * np.exp(alphas[m] * misclassification(y,predictions_train[:,m]))\n",
    "        curr_weights = curr_weights.reshape((-1,))\n",
    "        if m + 1 < M:\n",
    "            staged_weights[:,m+1] = curr_weights\n",
    "        stumps.append(stump)\n",
    "    return alphas, stumps, weighted_error\n",
    "class adaboost:\n",
    "    \"\"\"\n",
    "    AdaBoost algorithm for weak classifiers, that can fit discrete classification problems.\n",
    "    \"\"\"\n",
    "    def __init__(self,M):\n",
    "        \"\"\"\n",
    "        Initialize self.\n",
    "        Inputs:\n",
    "            M: int\n",
    "                input number of iterations for the algorithm\n",
    "        \"\"\"\n",
    "        self.M = M \n",
    "    def fit(self,x,y):\n",
    "        \"\"\"\n",
    "        Fits the AdaBooster on a given dataset.\n",
    "        Inputs:\n",
    "            x: array\n",
    "                input the array of input points\n",
    "            y: array\n",
    "                input the array of output points, with y E {-1,1}   \n",
    "        \"\"\"\n",
    "        self.x = x \n",
    "        self.y = y \n",
    "        result = adaboost_m1(self.x,self.y,self.M) \n",
    "        self.alphas = result[0]\n",
    "        self.stumps = result[1]\n",
    "        self.weight_error = result[2]\n",
    "    def predict(self,x):\n",
    "        \"\"\"\n",
    "        Makes a prediction based on the weights and classifiers calculated by the Adabooster\n",
    "        Inputs:\n",
    "            x: array_like\n",
    "                input the array of input points\n",
    "        Returns:\n",
    "            self.predict: array_like\n",
    "                outputs the array of predictions\n",
    "        \"\"\"   \n",
    "        indiv_predictions = np.array([self.classifier.predict(x) for self.classifier in self.stumps])\n",
    "        prediction = indiv_predictions.T @ self.alphas         \n",
    "        prediction = np.sign(prediction)\n",
    "        return prediction\n",
    "    def alphas(self):\n",
    "        \"\"\"\n",
    "        Gives the weights calculated by the AdaBooster\n",
    "        \"\"\"\n",
    "        return self.alphas"
   ]
  },
  {
   "cell_type": "markdown",
   "metadata": {},
   "source": [
    "## Example"
   ]
  },
  {
   "cell_type": "markdown",
   "metadata": {},
   "source": [
    "### Generating a toy dataset to test the algorithm"
   ]
  },
  {
   "cell_type": "markdown",
   "metadata": {},
   "source": [
    "This will be a classification dataset, with 2 features and 100 samples."
   ]
  },
  {
   "cell_type": "code",
   "execution_count": 13,
   "metadata": {
    "scrolled": true
   },
   "outputs": [],
   "source": [
    "from sklearn.datasets import make_gaussian_quantiles\n",
    "def make_toy_dataset(n: int = 100, random_seed: int = None):\n",
    "    \"\"\" Generate a toy dataset for evaluating AdaBoost classifiers \"\"\"\n",
    "    \n",
    "    n_per_class = int(n/2)\n",
    "    \n",
    "    if random_seed:\n",
    "        np.random.seed(random_seed)\n",
    "\n",
    "    X, y = make_gaussian_quantiles(n_samples=n, n_features=2, n_classes=2)\n",
    "    \n",
    "    return X, y*2-1\n",
    "\n",
    "X, y = make_toy_dataset(n=100, random_seed=10)\n",
    "X_train, X_test, Y_train, Y_test = train_test_split(X, y, test_size = 0.2, random_state=5)"
   ]
  },
  {
   "cell_type": "markdown",
   "metadata": {},
   "source": [
    "Defining a plot function(credits to:https://geoffruddock.com/adaboost-from-scratch-in-python/)"
   ]
  },
  {
   "cell_type": "code",
   "execution_count": 14,
   "metadata": {},
   "outputs": [
    {
     "data": {
      "image/png": "[encoded data removed]",
      "text/plain": [
       "<Figure size 500x500 with 1 Axes>"
      ]
     },
     "metadata": {},
     "output_type": "display_data"
    }
   ],
   "source": [
    "import matplotlib.pyplot as plt\n",
    "from typing import Optional\n",
    "import matplotlib as mpl\n",
    "def plot_adaboost(X: np.ndarray,\n",
    "                  y: np.ndarray,\n",
    "                  clf=None,\n",
    "                  sample_weights: Optional[np.ndarray] = None,\n",
    "                  annotate: bool = False,\n",
    "                  ax: Optional[mpl.axes.Axes] = None) -> None:\n",
    "    \"\"\" Plot ± samples in 2D, optionally with decision boundary \"\"\"\n",
    "\n",
    "    assert set(y) == {-1, 1}, 'Expecting response labels to be ±1'\n",
    "\n",
    "    if not ax:\n",
    "        fig, ax = plt.subplots(figsize=(5, 5), dpi=100)\n",
    "        fig.set_facecolor('white')\n",
    "\n",
    "    pad = 1\n",
    "    x_min, x_max = X[:, 0].min() - pad, X[:, 0].max() + pad\n",
    "    y_min, y_max = X[:, 1].min() - pad, X[:, 1].max() + pad\n",
    "\n",
    "    if sample_weights is not None:\n",
    "        sizes = np.array(sample_weights) * X.shape[0] * 100\n",
    "    else:\n",
    "        sizes = np.ones(shape=X.shape[0]) * 100\n",
    "\n",
    "    X_pos = X[y == 1]\n",
    "    sizes_pos = sizes[y == 1]\n",
    "    ax.scatter(*X_pos.T, s=sizes_pos, marker='+', color='red')\n",
    "\n",
    "    X_neg = X[y == -1]\n",
    "    sizes_neg = sizes[y == -1]\n",
    "    ax.scatter(*X_neg.T, s=sizes_neg, marker='.', c='blue')\n",
    "\n",
    "    if clf:\n",
    "        plot_step = 0.01\n",
    "        xx, yy = np.meshgrid(np.arange(x_min, x_max, plot_step),\n",
    "                             np.arange(y_min, y_max, plot_step))\n",
    "\n",
    "        Z = clf.predict(np.c_[xx.ravel(), yy.ravel()])\n",
    "        Z = Z.reshape(xx.shape)\n",
    "        \n",
    "        # If all predictions are positive class, adjust color map acordingly\n",
    "        if list(np.unique(Z)) == [1]:\n",
    "            fill_colors = ['r']\n",
    "        else:\n",
    "            fill_colors = ['b', 'r']\n",
    "\n",
    "        ax.contourf(xx, yy, Z, colors=fill_colors, alpha=0.2)\n",
    "\n",
    "    if annotate:\n",
    "        for i, (x, y) in enumerate(X):\n",
    "            offset = 0.05\n",
    "            ax.annotate(f'$x_{i + 1}$', (x + offset, y - offset))\n",
    "\n",
    "    ax.set_xlim(x_min+0.5, x_max-0.5)\n",
    "    ax.set_ylim(y_min+0.5, y_max-0.5)\n",
    "    ax.set_xlabel('$x_1$')\n",
    "    ax.set_ylabel('$x_2$')\n",
    "plot_adaboost(X,y)"
   ]
  },
  {
   "cell_type": "markdown",
   "metadata": {},
   "source": [
    "### Model performance "
   ]
  },
  {
   "cell_type": "markdown",
   "metadata": {},
   "source": [
    "#### Accuracy on the Test set"
   ]
  },
  {
   "cell_type": "markdown",
   "metadata": {},
   "source": [
    "First let's evaluate the performance of a single decision stump on the dataset."
   ]
  },
  {
   "cell_type": "code",
   "execution_count": 15,
   "metadata": {},
   "outputs": [
    {
     "name": "stdout",
     "output_type": "stream",
     "text": [
      "The accuracy of the decision stump on the test set is: 55.0%\n"
     ]
    }
   ],
   "source": [
    "stump = DecisionTreeClassifier(max_depth=1, max_leaf_nodes=2)\n",
    "stump.fit(X_train,Y_train)\n",
    "prediction = stump.predict(X_test)\n",
    "counter = np.sum(misclassification(prediction,Y_test))\n",
    "print(f\"The accuracy of the decision stump on the test set is: {np.round(((len(Y_test) - counter)/len(Y_test))*100,2)}%\")"
   ]
  },
  {
   "cell_type": "markdown",
   "metadata": {},
   "source": [
    "We can see that the stump is clearly a weak classifier, since its test accuracy is ~50%."
   ]
  },
  {
   "cell_type": "markdown",
   "metadata": {},
   "source": [
    "Now let's evaluate the performance of the decision stump after the boosting operation."
   ]
  },
  {
   "cell_type": "code",
   "execution_count": 16,
   "metadata": {},
   "outputs": [
    {
     "name": "stdout",
     "output_type": "stream",
     "text": [
      "The accuracy of the boosted decision stump on the test set is: 95.0%\n"
     ]
    }
   ],
   "source": [
    "boost = adaboost(40)\n",
    "boost.fit(X_train,Y_train)\n",
    "prediction = boost.predict(X_test)\n",
    "counter = np.sum(misclassification(prediction,Y_test))\n",
    "print(f\"The accuracy of the boosted decision stump on the test set is: {np.round(((len(Y_test) - float(counter))/len(Y_test))*100,2)}%\")\n"
   ]
  },
  {
   "cell_type": "markdown",
   "metadata": {},
   "source": [
    "And thus the efficiency of the AdaBoost algorithm is proved . It has increased the accuracy of the decision stump by ~40%, which elevates it from a weak classifier(one that is analogous to random guessing) to a pretty strong classifier, with an accuracy of more than 90%."
   ]
  },
  {
   "cell_type": "markdown",
   "metadata": {},
   "source": [
    "Now let's plot the test error of the model at each iteration M. Although the graph shows a continuous line, the relationship between these variables is discrete, the continuous visualization is utilized only to give a better intuition on the subject. The actual discrete relationship is also shown as red dots."
   ]
  },
  {
   "cell_type": "code",
   "execution_count": 17,
   "metadata": {},
   "outputs": [
    {
     "data": {
      "text/plain": [
       "[<matplotlib.lines.Line2D at 0x286b2c5e640>]"
      ]
     },
     "execution_count": 17,
     "metadata": {},
     "output_type": "execute_result"
    },
    {
     "data": {
      "image/png": "[encoded data removed]",
      "text/plain": [
       "<Figure size 1050x700 with 1 Axes>"
      ]
     },
     "metadata": {
      "needs_background": "light"
     },
     "output_type": "display_data"
    }
   ],
   "source": [
    "test_error_list = list()\n",
    "iterations = np.array((range(40)))\n",
    "for i in range(40):\n",
    "    boost = adaboost(i+1)\n",
    "    boost.fit(X_train,Y_train)\n",
    "    prediction = boost.predict(X_test)\n",
    "    counter = np.sum(misclassification(Y_test,prediction))\n",
    "    test_error_list.append(((counter)/len(Y_test))*100)\n",
    "plt.figure(figsize=(15,10),dpi=70)\n",
    "plt.title('Test error at each iteration M')\n",
    "plt.xlabel('Iterations')\n",
    "plt.ylabel('Test error ')\n",
    "plt.plot(iterations,test_error_list, 'y')\n",
    "plt.plot(iterations,test_error_list,'ro')\n"
   ]
  },
  {
   "cell_type": "markdown",
   "metadata": {},
   "source": [
    "We can see that after the 14th iteration, the test error remais constant at 5%, and thus the optimal number of iterations for this particular dataset is 14."
   ]
  },
  {
   "cell_type": "markdown",
   "metadata": {},
   "source": [
    "#### Visualizing the relationship between weak classifiers and their respective weights"
   ]
  },
  {
   "cell_type": "markdown",
   "metadata": {},
   "source": [
    "Now let's plot the values for all the classifier weights(alphas) and the training error(weighted misclassification) for each of the M iterations. Every point in the graph represents an individual classifier, that "
   ]
  },
  {
   "cell_type": "code",
   "execution_count": 18,
   "metadata": {},
   "outputs": [
    {
     "data": {
      "text/plain": [
       "[<matplotlib.lines.Line2D at 0x286b2cb4a30>]"
      ]
     },
     "execution_count": 18,
     "metadata": {},
     "output_type": "execute_result"
    },
    {
     "data": {
      "image/png": "[encoded data removed]",
      "text/plain": [
       "<Figure size 700x490 with 1 Axes>"
      ]
     },
     "metadata": {
      "needs_background": "light"
     },
     "output_type": "display_data"
    }
   ],
   "source": [
    "alphas = boost.alphas\n",
    "weighted_error = boost.weight_error\n",
    "plt.figure(figsize=(10,7),dpi=70)\n",
    "plt.tick_params(axis='x', which='major', labelsize=10)\n",
    "plt.title('Relationship between the weighted error and the weights')\n",
    "plt.xlabel('Weighted Errors')\n",
    "plt.ylabel('Weights(alphas) ')\n",
    "plt.plot(weighted_error,alphas,'y')\n",
    "plt.plot(weighted_error,alphas,'ro', ms=3)\n"
   ]
  },
  {
   "cell_type": "markdown",
   "metadata": {},
   "source": [
    "We can see that the iterations with the lowest weighted error have the highest values of alpha, which makes sense, since the adaboost algorithm is based on weighting the influence of a sequence of iterations based on their respective weighted error."
   ]
  }
 ],
 "metadata": {
  "kernelspec": {
   "display_name": "Python 3",
   "language": "python",
   "name": "python3"
  },
  "language_info": {
   "codemirror_mode": {
    "name": "ipython",
    "version": 3
   },
   "file_extension": ".py",
   "mimetype": "text/x-python",
   "name": "python",
   "nbconvert_exporter": "python",
   "pygments_lexer": "ipython3",
   "version": "3.8.5"
  }
 },
 "nbformat": 4,
 "nbformat_minor": 4
}
