{
 "cells": [
  {
   "cell_type": "markdown",
   "metadata": {},
   "source": [
    "# Libraries"
   ]
  },
  {
   "cell_type": "code",
   "execution_count": 1,
   "metadata": {},
   "outputs": [],
   "source": [
    "import csv\n",
    "import numpy as np \n",
    "import matplotlib.pyplot as plt \n",
    "import pandas as pd \n",
    "from sklearn.model_selection import train_test_split\n",
    "from sklearn.preprocessing import StandardScaler\n",
    "import matplotlib.patches as mpatches"
   ]
  },
  {
   "cell_type": "markdown",
   "metadata": {},
   "source": [
    "# Data"
   ]
  },
  {
   "cell_type": "code",
   "execution_count": 2,
   "metadata": {},
   "outputs": [],
   "source": [
    "X = np.array(pd.read_csv('logistic.csv', dtype='float', ))\n",
    "X = np.delete(X,[2],1)\n",
    "ones = np.ones((100,1))\n",
    "X = np.hstack((ones,X))\n",
    "y = np.array(pd.read_csv('logistic.csv', dtype='float', ))\n",
    "y = np.delete(y,[0,1],1)\n",
    "scaler = StandardScaler()\n",
    "scaler.fit(X)\n",
    "X = scaler.transform(X)\n",
    "X_train, X_test, Y_train, Y_test = train_test_split(X, y, test_size = 0.2, random_state=5) "
   ]
  },
  {
   "cell_type": "markdown",
   "metadata": {},
   "source": [
    "Visualizing the data"
   ]
  },
  {
   "cell_type": "code",
   "execution_count": 3,
   "metadata": {
    "scrolled": true
   },
   "outputs": [
    {
     "data": {
      "image/png": "[encoded data removed]",
      "text/plain": [
       "<Figure size 432x288 with 1 Axes>"
      ]
     },
     "metadata": {
      "needs_background": "light"
     },
     "output_type": "display_data"
    }
   ],
   "source": [
    "plt.title('Data')\n",
    "for i in range(np.size(X,0)-1):\n",
    "\tif y[i,0] == 0:\n",
    "\t\tblack_star = plt.plot(X[i,1],X[i,2], 'yo', mfc='y', ms=8, mec='k', mew=1)\n",
    "\telse:\n",
    "\t\tplt.plot(X[i,1],X[i,2], 'k*', lw=2, ms=9)\n",
    "plt.xlabel('Exam 1 score')\n",
    "plt.ylabel('Exam 2 score')\t\t\n",
    "black_star = mpatches.Patch(color='black', label='Admitted')\n",
    "yellow_dot = mpatches.Patch(color='yellow', label='Not Admitted')\n",
    "plt.legend(handles=[black_star,yellow_dot])\n",
    "plt.grid\n",
    "plt.show()\n"
   ]
  },
  {
   "cell_type": "markdown",
   "metadata": {},
   "source": [
    "The data has been scaled according to the StandardScaler function from sklearn."
   ]
  },
  {
   "cell_type": "markdown",
   "metadata": {},
   "source": [
    "# Defining the functions"
   ]
  },
  {
   "cell_type": "markdown",
   "metadata": {},
   "source": [
    "First let's define the probability of a pair $({x}_1,{x}_2)$ to be classified as 0 by our function, i.e., $Pr(G = 0|X = x)$."
   ]
  },
  {
   "cell_type": "code",
   "execution_count": 4,
   "metadata": {},
   "outputs": [],
   "source": [
    "def probability_k1(row,parameters):\n",
    "\tresult = np.exp(row @ parameters)/(1 + np.exp(row @ parameters))\n",
    "\treturn result "
   ]
  },
  {
   "cell_type": "markdown",
   "metadata": {},
   "source": [
    "Now let's define the probability vector."
   ]
  },
  {
   "cell_type": "code",
   "execution_count": 5,
   "metadata": {},
   "outputs": [],
   "source": [
    "def probability_vector(dataset,parameters):\n",
    "\tp = np.zeros((np.size(dataset,0),1))\n",
    "\tfor i in range(np.size(dataset,0)):\n",
    "\t\tp[i] = probability_k1(dataset[i,:],parameters)\n",
    "\treturn p "
   ]
  },
  {
   "cell_type": "markdown",
   "metadata": {},
   "source": [
    "Now lets define the diagonal matrix of weights $W$, that consists of a matrix with: $W(i,i) = Pr(G = 0|X = {x}_i) \\times (1 - Pr(G = 0|X = {x}_i))$"
   ]
  },
  {
   "cell_type": "code",
   "execution_count": 6,
   "metadata": {},
   "outputs": [],
   "source": [
    "def weight_matrix(dataset,parameters):\n",
    "\tw = np.eye((np.size(dataset,0)))\n",
    "\tfor i in range(np.size(dataset,0)):\n",
    "\t\tw[i,i] = probability_k1(dataset[i,:],parameters) * (1 - probability_k1(dataset[i,:],parameters))\n",
    "\treturn w "
   ]
  },
  {
   "cell_type": "markdown",
   "metadata": {},
   "source": [
    "As an error control, lets define the misclassification rate of the algorithm"
   ]
  },
  {
   "cell_type": "code",
   "execution_count": 7,
   "metadata": {},
   "outputs": [],
   "source": [
    "def misclassification(prediction,y):\n",
    "\tp = np.round(prediction)\n",
    "\tcounter = 0\n",
    "\tfor i in range(np.size(prediction,0)):\n",
    "\t\tif np.absolute(p[i] - y[i]) == 0:\n",
    "\t\t\tcounter = counter \n",
    "\t\telse:\n",
    "\t\t\tcounter += 1\n",
    "\treturn counter "
   ]
  },
  {
   "cell_type": "markdown",
   "metadata": {},
   "source": [
    "# Iteratively Reweighted Least Squares(IRLS)"
   ]
  },
  {
   "cell_type": "markdown",
   "metadata": {},
   "source": [
    "Finally, lets define the IRLS algorithm to find the optimal set of parameters.\n",
    "The algorithm updates the parameter beta according to the following:\n",
    "$B^{new} =(X^T W X)^{-1} X^T W z$, where $z = X B^{old} + W^{-1} (y - p)$"
   ]
  },
  {
   "cell_type": "code",
   "execution_count": 8,
   "metadata": {},
   "outputs": [],
   "source": [
    "def newton_step(dataset,y,n_iter):\n",
    "\ttheta = np.zeros((np.size(dataset,1),1))\n",
    "\tfor i in range(n_iter):\n",
    "\t\tz = dataset @ theta + np.linalg.pinv(weight_matrix(dataset,theta)) @ (y - probability_vector(dataset,theta))\n",
    "\t\ttheta = np.linalg.pinv(dataset.T @ weight_matrix(dataset,theta) @ dataset) @ dataset.T @ weight_matrix(dataset,theta) @ z \n",
    "\treturn theta "
   ]
  },
  {
   "cell_type": "code",
   "execution_count": 9,
   "metadata": {},
   "outputs": [
    {
     "name": "stdout",
     "output_type": "stream",
     "text": [
      "The number of misclassifications within the training set is: 12\n",
      "That gives us an aproximate correct answer rate of: 85.0% \n",
      "The number of misclassifications within the test set is: 2\n",
      "That gives us an aproximate correct answer rate of: 90.0% \n"
     ]
    }
   ],
   "source": [
    "beta = newton_step(X_train,Y_train,1000)\n",
    "prediction1 = probability_vector(X_train,beta)\n",
    "prediction2 = probability_vector(X_test,beta)\n",
    "print(f\"The number of misclassifications within the training set is: {misclassification(prediction1,Y_train)}\")\n",
    "print(f\"That gives us an aproximate correct answer rate of: {np.round((np.size(Y_train,0) - misclassification(prediction1,Y_train))/np.size(Y_train,0),2) * 100}% \")\n",
    "print(f\"The number of misclassifications within the test set is: {misclassification(prediction2,Y_test)}\")\n",
    "print(f\"That gives us an aproximate correct answer rate of: {np.round((np.size(Y_test,0) - misclassification(prediction2,Y_test))/np.size(Y_test,0),2) * 100}% \")"
   ]
  },
  {
   "cell_type": "markdown",
   "metadata": {},
   "source": [
    "# Visualizing the decision boundary"
   ]
  },
  {
   "cell_type": "markdown",
   "metadata": {},
   "source": [
    "To find the decidion boundary we must solve the following: ${B}_0 + {B}_1 {x}_1 + {B}_2 {x}_2 = 0 \\therefore {x}_2 = \\frac{-{B}_1 {x}_1 - {B}_0}{{B}_2}$"
   ]
  },
  {
   "cell_type": "code",
   "execution_count": 10,
   "metadata": {},
   "outputs": [
    {
     "data": {
      "image/png": "[encoded data removed]",
      "text/plain": [
       "<Figure size 432x288 with 1 Axes>"
      ]
     },
     "metadata": {
      "needs_background": "light"
     },
     "output_type": "display_data"
    }
   ],
   "source": [
    "plt.title('Data')\n",
    "for i in range(np.size(X,0)):\n",
    "\tif y[i,0] == 0:\n",
    "\t\tblack_star = plt.plot(X[i,1],X[i,2], 'yo', mfc='y', ms=8, mec='k', mew=1)\n",
    "\telse:\n",
    "\t\tplt.plot(X[i,1],X[i,2], 'k*', lw=2, ms=9)\n",
    "plt.xlabel('Exam 1 score')\n",
    "plt.ylabel('Exam 2 score')\t\t\n",
    "plt.xlim(-2,2)\n",
    "plt.ylim(-2,2)\n",
    "x1 = np.arange(-2,2,0.5)\n",
    "x2 = ((-1 * beta[1] * x1) - beta[0])/beta[2]\n",
    "plt.plot(x1,x2,'r',lw=1)\n",
    "decision_boundary = mpatches.Patch(color='red', label='Decision Boundary')\n",
    "plt.legend(handles=[decision_boundary], loc='upper right')\n",
    "plt.grid\n",
    "plt.show()"
   ]
  }
 ],
 "metadata": {
  "kernelspec": {
   "display_name": "Python 3",
   "language": "python",
   "name": "python3"
  },
  "language_info": {
   "codemirror_mode": {
    "name": "ipython",
    "version": 3
   },
   "file_extension": ".py",
   "mimetype": "text/x-python",
   "name": "python",
   "nbconvert_exporter": "python",
   "pygments_lexer": "ipython3",
   "version": "3.8.1"
  }
 },
 "nbformat": 4,
 "nbformat_minor": 4
}
